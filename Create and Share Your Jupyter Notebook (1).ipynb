{
 "cells": [
  {
   "cell_type": "markdown",
   "id": "2f08d416-f2eb-46d6-a2f0-1e50a78fd4af",
   "metadata": {},
   "source": [
    "# \"My Jupyter Notebook on IBM Watson Studio\""
   ]
  },
  {
   "cell_type": "markdown",
   "id": "33128ad5-d557-4559-b717-86426ba143a1",
   "metadata": {},
   "source": [
    "KIRAN KRISHNAPPA <br>\n",
    "Current occupation: Analytics Manager"
   ]
  },
  {
   "cell_type": "markdown",
   "id": "3c3ddabb-75ca-497a-bd58-50f32e0c11df",
   "metadata": {},
   "source": [
    "*\"Data Science is a broader area that comprises of AI,Analytics,Machine Learning,Deep Learning e.t.c and it gives an overall understanding and experience for a Data Scientist hence I'm more curious to learn it\"*"
   ]
  },
  {
   "cell_type": "markdown",
   "id": "62c6af55-adf1-435e-81c6-1081216f0f60",
   "metadata": {},
   "source": [
    "### \"My Code will multiply 20 * 20 in cell 5\""
   ]
  },
  {
   "cell_type": "code",
   "execution_count": 2,
   "id": "1f6d10b6-77b3-4d09-966c-9218910b55f6",
   "metadata": {},
   "outputs": [
    {
     "data": {
      "text/plain": [
       "400"
      ]
     },
     "execution_count": 2,
     "metadata": {},
     "output_type": "execute_result"
    }
   ],
   "source": [
    "20*20"
   ]
  },
  {
   "cell_type": "markdown",
   "id": "286baf83-9dcd-4bda-b751-2746ae9a0a4a",
   "metadata": {},
   "source": [
    "1. Item one\n",
    "1. Item two\n",
    "1. Item three\n",
    "* Item one\n",
    "* Item two\n",
    "* Item three <br>\n",
    "[Mountains] (https://www.freepik.com/free-photo/mount-mont-blanc-covered-snow-reflecting-water-evening-chamonix-france_13562947.htm#&position=23&from_view=search)"
   ]
  },
  {
   "cell_type": "code",
   "execution_count": null,
   "id": "e1040624-d5ce-48fc-8960-62554edafa56",
   "metadata": {},
   "outputs": [],
   "source": []
  }
 ],
 "metadata": {
  "kernelspec": {
   "display_name": "Python",
   "language": "python",
   "name": "conda-env-python-py"
  },
  "language_info": {
   "codemirror_mode": {
    "name": "ipython",
    "version": 3
   },
   "file_extension": ".py",
   "mimetype": "text/x-python",
   "name": "python",
   "nbconvert_exporter": "python",
   "pygments_lexer": "ipython3",
   "version": "3.7.12"
  }
 },
 "nbformat": 4,
 "nbformat_minor": 5
}
